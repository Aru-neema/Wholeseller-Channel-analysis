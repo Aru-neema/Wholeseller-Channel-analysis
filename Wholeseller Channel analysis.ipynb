{
 "cells": [
  {
   "cell_type": "markdown",
   "id": "c262ffad",
   "metadata": {},
   "source": [
    "## Problem Statement:\n",
    "\n",
    "A wholesale distributor operating in different regions of Portugal has information on annual spending of several items in their stores across different regions and channels. The data consists of 440 large retailers’ annual spending on 6 different varieties of products in 3 different regions (Lisbon, Oporto, Other) and across different sales channel (Hotel, Retail)."
   ]
  },
  {
   "cell_type": "code",
   "execution_count": 20,
   "id": "02cbe650",
   "metadata": {},
   "outputs": [],
   "source": [
    "import numpy as np\n",
    "import pandas as pd\n",
    "import matplotlib.pyplot as plt \n",
    "import seaborn as sns\n",
    "import scipy.stats as stats\n"
   ]
  },
  {
   "cell_type": "markdown",
   "id": "26cc863c",
   "metadata": {},
   "source": [
    "## Loading the data"
   ]
  },
  {
   "cell_type": "code",
   "execution_count": 41,
   "id": "a5d7baf0",
   "metadata": {
    "scrolled": true
   },
   "outputs": [],
   "source": [
    "df= pd.read_csv('Wholesale Customer.csv')"
   ]
  },
  {
   "cell_type": "code",
   "execution_count": 42,
   "id": "b28c99b8",
   "metadata": {},
   "outputs": [
    {
     "data": {
      "text/html": [
       "<div>\n",
       "<style scoped>\n",
       "    .dataframe tbody tr th:only-of-type {\n",
       "        vertical-align: middle;\n",
       "    }\n",
       "\n",
       "    .dataframe tbody tr th {\n",
       "        vertical-align: top;\n",
       "    }\n",
       "\n",
       "    .dataframe thead th {\n",
       "        text-align: right;\n",
       "    }\n",
       "</style>\n",
       "<table border=\"1\" class=\"dataframe\">\n",
       "  <thead>\n",
       "    <tr style=\"text-align: right;\">\n",
       "      <th></th>\n",
       "      <th>Buyer/Spender</th>\n",
       "      <th>Channel</th>\n",
       "      <th>Region</th>\n",
       "      <th>Fresh</th>\n",
       "      <th>Milk</th>\n",
       "      <th>Grocery</th>\n",
       "      <th>Frozen</th>\n",
       "      <th>Detergents_Paper</th>\n",
       "      <th>Delicatessen</th>\n",
       "    </tr>\n",
       "  </thead>\n",
       "  <tbody>\n",
       "    <tr>\n",
       "      <th>0</th>\n",
       "      <td>1</td>\n",
       "      <td>Retail</td>\n",
       "      <td>Other</td>\n",
       "      <td>12669</td>\n",
       "      <td>9656</td>\n",
       "      <td>7561</td>\n",
       "      <td>214</td>\n",
       "      <td>2674</td>\n",
       "      <td>1338</td>\n",
       "    </tr>\n",
       "    <tr>\n",
       "      <th>1</th>\n",
       "      <td>2</td>\n",
       "      <td>Retail</td>\n",
       "      <td>Other</td>\n",
       "      <td>7057</td>\n",
       "      <td>9810</td>\n",
       "      <td>9568</td>\n",
       "      <td>1762</td>\n",
       "      <td>3293</td>\n",
       "      <td>1776</td>\n",
       "    </tr>\n",
       "    <tr>\n",
       "      <th>2</th>\n",
       "      <td>3</td>\n",
       "      <td>Retail</td>\n",
       "      <td>Other</td>\n",
       "      <td>6353</td>\n",
       "      <td>8808</td>\n",
       "      <td>7684</td>\n",
       "      <td>2405</td>\n",
       "      <td>3516</td>\n",
       "      <td>7844</td>\n",
       "    </tr>\n",
       "    <tr>\n",
       "      <th>3</th>\n",
       "      <td>4</td>\n",
       "      <td>Hotel</td>\n",
       "      <td>Other</td>\n",
       "      <td>13265</td>\n",
       "      <td>1196</td>\n",
       "      <td>4221</td>\n",
       "      <td>6404</td>\n",
       "      <td>507</td>\n",
       "      <td>1788</td>\n",
       "    </tr>\n",
       "    <tr>\n",
       "      <th>4</th>\n",
       "      <td>5</td>\n",
       "      <td>Retail</td>\n",
       "      <td>Other</td>\n",
       "      <td>22615</td>\n",
       "      <td>5410</td>\n",
       "      <td>7198</td>\n",
       "      <td>3915</td>\n",
       "      <td>1777</td>\n",
       "      <td>5185</td>\n",
       "    </tr>\n",
       "  </tbody>\n",
       "</table>\n",
       "</div>"
      ],
      "text/plain": [
       "   Buyer/Spender Channel Region  Fresh  Milk  Grocery  Frozen  \\\n",
       "0              1  Retail  Other  12669  9656     7561     214   \n",
       "1              2  Retail  Other   7057  9810     9568    1762   \n",
       "2              3  Retail  Other   6353  8808     7684    2405   \n",
       "3              4   Hotel  Other  13265  1196     4221    6404   \n",
       "4              5  Retail  Other  22615  5410     7198    3915   \n",
       "\n",
       "   Detergents_Paper  Delicatessen  \n",
       "0              2674          1338  \n",
       "1              3293          1776  \n",
       "2              3516          7844  \n",
       "3               507          1788  \n",
       "4              1777          5185  "
      ]
     },
     "execution_count": 42,
     "metadata": {},
     "output_type": "execute_result"
    }
   ],
   "source": [
    "df.head()"
   ]
  },
  {
   "cell_type": "markdown",
   "id": "cbb8f76f",
   "metadata": {},
   "source": [
    "## Summary and EDA"
   ]
  },
  {
   "cell_type": "code",
   "execution_count": 43,
   "id": "a6f495a8",
   "metadata": {},
   "outputs": [
    {
     "data": {
      "text/plain": [
       "(440, 9)"
      ]
     },
     "execution_count": 43,
     "metadata": {},
     "output_type": "execute_result"
    }
   ],
   "source": [
    "df.shape"
   ]
  },
  {
   "cell_type": "code",
   "execution_count": 44,
   "id": "581c22ef",
   "metadata": {},
   "outputs": [
    {
     "data": {
      "text/plain": [
       "Buyer/Spender       0\n",
       "Channel             0\n",
       "Region              0\n",
       "Fresh               0\n",
       "Milk                0\n",
       "Grocery             0\n",
       "Frozen              0\n",
       "Detergents_Paper    0\n",
       "Delicatessen        0\n",
       "dtype: int64"
      ]
     },
     "execution_count": 44,
     "metadata": {},
     "output_type": "execute_result"
    }
   ],
   "source": [
    "df.isnull().sum()"
   ]
  },
  {
   "cell_type": "code",
   "execution_count": 45,
   "id": "b1bfa98b",
   "metadata": {},
   "outputs": [
    {
     "name": "stdout",
     "output_type": "stream",
     "text": [
      "<class 'pandas.core.frame.DataFrame'>\n",
      "RangeIndex: 440 entries, 0 to 439\n",
      "Data columns (total 9 columns):\n",
      " #   Column            Non-Null Count  Dtype \n",
      "---  ------            --------------  ----- \n",
      " 0   Buyer/Spender     440 non-null    int64 \n",
      " 1   Channel           440 non-null    object\n",
      " 2   Region            440 non-null    object\n",
      " 3   Fresh             440 non-null    int64 \n",
      " 4   Milk              440 non-null    int64 \n",
      " 5   Grocery           440 non-null    int64 \n",
      " 6   Frozen            440 non-null    int64 \n",
      " 7   Detergents_Paper  440 non-null    int64 \n",
      " 8   Delicatessen      440 non-null    int64 \n",
      "dtypes: int64(7), object(2)\n",
      "memory usage: 31.1+ KB\n"
     ]
    }
   ],
   "source": [
    "df.info()"
   ]
  },
  {
   "cell_type": "code",
   "execution_count": 46,
   "id": "9fdf48b6",
   "metadata": {},
   "outputs": [],
   "source": [
    "df_item=df"
   ]
  },
  {
   "cell_type": "code",
   "execution_count": 47,
   "id": "fc55721a",
   "metadata": {},
   "outputs": [
    {
     "data": {
      "text/html": [
       "<div>\n",
       "<style scoped>\n",
       "    .dataframe tbody tr th:only-of-type {\n",
       "        vertical-align: middle;\n",
       "    }\n",
       "\n",
       "    .dataframe tbody tr th {\n",
       "        vertical-align: top;\n",
       "    }\n",
       "\n",
       "    .dataframe thead th {\n",
       "        text-align: right;\n",
       "    }\n",
       "</style>\n",
       "<table border=\"1\" class=\"dataframe\">\n",
       "  <thead>\n",
       "    <tr style=\"text-align: right;\">\n",
       "      <th></th>\n",
       "      <th>Buyer/Spender</th>\n",
       "      <th>Fresh</th>\n",
       "      <th>Milk</th>\n",
       "      <th>Grocery</th>\n",
       "      <th>Frozen</th>\n",
       "      <th>Detergents_Paper</th>\n",
       "      <th>Delicatessen</th>\n",
       "    </tr>\n",
       "  </thead>\n",
       "  <tbody>\n",
       "    <tr>\n",
       "      <th>count</th>\n",
       "      <td>440.0</td>\n",
       "      <td>440.0</td>\n",
       "      <td>440.0</td>\n",
       "      <td>440.0</td>\n",
       "      <td>440.0</td>\n",
       "      <td>440.0</td>\n",
       "      <td>440.0</td>\n",
       "    </tr>\n",
       "    <tr>\n",
       "      <th>mean</th>\n",
       "      <td>220.5</td>\n",
       "      <td>12000.3</td>\n",
       "      <td>5796.3</td>\n",
       "      <td>7951.3</td>\n",
       "      <td>3071.9</td>\n",
       "      <td>2881.5</td>\n",
       "      <td>1524.9</td>\n",
       "    </tr>\n",
       "    <tr>\n",
       "      <th>std</th>\n",
       "      <td>127.2</td>\n",
       "      <td>12647.3</td>\n",
       "      <td>7380.4</td>\n",
       "      <td>9503.2</td>\n",
       "      <td>4854.7</td>\n",
       "      <td>4767.9</td>\n",
       "      <td>2820.1</td>\n",
       "    </tr>\n",
       "    <tr>\n",
       "      <th>min</th>\n",
       "      <td>1.0</td>\n",
       "      <td>3.0</td>\n",
       "      <td>55.0</td>\n",
       "      <td>3.0</td>\n",
       "      <td>25.0</td>\n",
       "      <td>3.0</td>\n",
       "      <td>3.0</td>\n",
       "    </tr>\n",
       "    <tr>\n",
       "      <th>25%</th>\n",
       "      <td>110.8</td>\n",
       "      <td>3127.8</td>\n",
       "      <td>1533.0</td>\n",
       "      <td>2153.0</td>\n",
       "      <td>742.2</td>\n",
       "      <td>256.8</td>\n",
       "      <td>408.2</td>\n",
       "    </tr>\n",
       "    <tr>\n",
       "      <th>50%</th>\n",
       "      <td>220.5</td>\n",
       "      <td>8504.0</td>\n",
       "      <td>3627.0</td>\n",
       "      <td>4755.5</td>\n",
       "      <td>1526.0</td>\n",
       "      <td>816.5</td>\n",
       "      <td>965.5</td>\n",
       "    </tr>\n",
       "    <tr>\n",
       "      <th>75%</th>\n",
       "      <td>330.2</td>\n",
       "      <td>16933.8</td>\n",
       "      <td>7190.2</td>\n",
       "      <td>10655.8</td>\n",
       "      <td>3554.2</td>\n",
       "      <td>3922.0</td>\n",
       "      <td>1820.2</td>\n",
       "    </tr>\n",
       "    <tr>\n",
       "      <th>max</th>\n",
       "      <td>440.0</td>\n",
       "      <td>112151.0</td>\n",
       "      <td>73498.0</td>\n",
       "      <td>92780.0</td>\n",
       "      <td>60869.0</td>\n",
       "      <td>40827.0</td>\n",
       "      <td>47943.0</td>\n",
       "    </tr>\n",
       "  </tbody>\n",
       "</table>\n",
       "</div>"
      ],
      "text/plain": [
       "       Buyer/Spender     Fresh     Milk  Grocery   Frozen  Detergents_Paper  \\\n",
       "count          440.0     440.0    440.0    440.0    440.0             440.0   \n",
       "mean           220.5   12000.3   5796.3   7951.3   3071.9            2881.5   \n",
       "std            127.2   12647.3   7380.4   9503.2   4854.7            4767.9   \n",
       "min              1.0       3.0     55.0      3.0     25.0               3.0   \n",
       "25%            110.8    3127.8   1533.0   2153.0    742.2             256.8   \n",
       "50%            220.5    8504.0   3627.0   4755.5   1526.0             816.5   \n",
       "75%            330.2   16933.8   7190.2  10655.8   3554.2            3922.0   \n",
       "max            440.0  112151.0  73498.0  92780.0  60869.0           40827.0   \n",
       "\n",
       "       Delicatessen  \n",
       "count         440.0  \n",
       "mean         1524.9  \n",
       "std          2820.1  \n",
       "min             3.0  \n",
       "25%           408.2  \n",
       "50%           965.5  \n",
       "75%          1820.2  \n",
       "max         47943.0  "
      ]
     },
     "execution_count": 47,
     "metadata": {},
     "output_type": "execute_result"
    }
   ],
   "source": [
    "x= df_item.describe().round(1)\n",
    "x"
   ]
  },
  {
   "cell_type": "code",
   "execution_count": 48,
   "id": "fc315db7",
   "metadata": {},
   "outputs": [
    {
     "data": {
      "text/plain": [
       "Other     316\n",
       "Lisbon     77\n",
       "Oporto     47\n",
       "Name: Region, dtype: int64"
      ]
     },
     "execution_count": 48,
     "metadata": {},
     "output_type": "execute_result"
    }
   ],
   "source": [
    "df['Region'].value_counts()"
   ]
  },
  {
   "cell_type": "code",
   "execution_count": 49,
   "id": "9b6ff7ee",
   "metadata": {},
   "outputs": [
    {
     "data": {
      "text/plain": [
       "<AxesSubplot:>"
      ]
     },
     "execution_count": 49,
     "metadata": {},
     "output_type": "execute_result"
    },
    {
     "data": {
      "image/png": "[encoded data removed]",
      "text/plain": [
       "<Figure size 432x288 with 1 Axes>"
      ]
     },
     "metadata": {
      "needs_background": "light"
     },
     "output_type": "display_data"
    }
   ],
   "source": [
    "df['Region'].value_counts().plot(kind='bar')"
   ]
  },
  {
   "cell_type": "code",
   "execution_count": 50,
   "id": "2daeb40c",
   "metadata": {},
   "outputs": [
    {
     "data": {
      "text/plain": [
       "Hotel     298\n",
       "Retail    142\n",
       "Name: Channel, dtype: int64"
      ]
     },
     "execution_count": 50,
     "metadata": {},
     "output_type": "execute_result"
    }
   ],
   "source": [
    "df['Channel'].value_counts()"
   ]
  },
  {
   "cell_type": "code",
   "execution_count": 51,
   "id": "a97e55d7",
   "metadata": {},
   "outputs": [
    {
     "data": {
      "text/plain": [
       "<AxesSubplot:>"
      ]
     },
     "execution_count": 51,
     "metadata": {},
     "output_type": "execute_result"
    },
    {
     "data": {
      "image/png": "[encoded data removed]",
      "text/plain": [
       "<Figure size 432x288 with 1 Axes>"
      ]
     },
     "metadata": {
      "needs_background": "light"
     },
     "output_type": "display_data"
    }
   ],
   "source": [
    "df['Channel'].value_counts().plot(kind='bar')"
   ]
  },
  {
   "cell_type": "code",
   "execution_count": 52,
   "id": "8e909644",
   "metadata": {},
   "outputs": [
    {
     "data": {
      "image/png": "[encoded data removed]",
      "text/plain": [
       "<Figure size 720x432 with 1 Axes>"
      ]
     },
     "metadata": {
      "needs_background": "light"
     },
     "output_type": "display_data"
    }
   ],
   "source": [
    "hist1= pd.crosstab(index=df['Channel'], columns=df['Region'])\n",
    "hist1.plot.bar(figsize=(10,6))\n",
    "plt.show()"
   ]
  },
  {
   "cell_type": "code",
   "execution_count": 53,
   "id": "e860aa7f",
   "metadata": {},
   "outputs": [
    {
     "data": {
      "image/png": "[encoded data removed]",
      "text/plain": [
       "<Figure size 720x432 with 1 Axes>"
      ]
     },
     "metadata": {
      "needs_background": "light"
     },
     "output_type": "display_data"
    }
   ],
   "source": [
    "hist2= pd.crosstab(index=df['Buyer/Spender'].sum(), columns=df['Region'])\n",
    "hist2.plot.bar(figsize=(10,6))\n",
    "plt.xlabel('Buyer/Spender')\n",
    "plt.show()"
   ]
  },
  {
   "cell_type": "code",
   "execution_count": 54,
   "id": "d70445e9",
   "metadata": {},
   "outputs": [
    {
     "data": {
      "image/png": "[encoded data removed]",
      "text/plain": [
       "<Figure size 720x432 with 1 Axes>"
      ]
     },
     "metadata": {
      "needs_background": "light"
     },
     "output_type": "display_data"
    }
   ],
   "source": [
    "hist2= pd.crosstab(index=df['Buyer/Spender'].sum(), columns=df['Channel'])\n",
    "hist2.plot.bar(figsize=(10,6))\n",
    "plt.xlabel('Buyer/Spender')\n",
    "plt.show()"
   ]
  },
  {
   "cell_type": "markdown",
   "id": "eefbe8c7",
   "metadata": {},
   "source": [
    "\n",
    "## Outliers"
   ]
  },
  {
   "cell_type": "code",
   "execution_count": 55,
   "id": "0f95262c",
   "metadata": {},
   "outputs": [
    {
     "data": {
      "image/png": "[encoded data removed]",
      "text/plain": [
       "<Figure size 1080x720 with 6 Axes>"
      ]
     },
     "metadata": {
      "needs_background": "light"
     },
     "output_type": "display_data"
    }
   ],
   "source": [
    "plt.figure(figsize= (15,10))\n",
    "plt.subplot(3,2,1) #this is important for having multiple box plot \n",
    "sns.boxplot(x= df.Fresh, color='lightblue')\n",
    "\n",
    "plt.subplot(3,2,2)\n",
    "sns.boxplot(x= df.Milk, color='lightblue')\n",
    "\n",
    "plt.subplot(3,2,3)\n",
    "sns.boxplot(x= df.Grocery, color='lightblue')\n",
    "\n",
    "plt.subplot(3,2,4)\n",
    "sns.boxplot(x= df.Frozen, color='lightblue')\n",
    "\n",
    "plt.subplot(3,2,5)\n",
    "sns.boxplot(x= df.Detergents_Paper, color='lightblue')\n",
    "\n",
    "plt.subplot(3,2,6)\n",
    "sns.boxplot(x= df.Delicatessen, color='lightblue')\n",
    "plt.show()"
   ]
  },
  {
   "cell_type": "code",
   "execution_count": 56,
   "id": "ff7ef443",
   "metadata": {},
   "outputs": [
    {
     "data": {
      "text/plain": [
       "array([[<AxesSubplot:title={'center':'Fresh'}>,\n",
       "        <AxesSubplot:title={'center':'Milk'}>],\n",
       "       [<AxesSubplot:title={'center':'Grocery'}>,\n",
       "        <AxesSubplot:title={'center':'Frozen'}>],\n",
       "       [<AxesSubplot:title={'center':'Detergents_Paper'}>,\n",
       "        <AxesSubplot:title={'center':'Delicatessen'}>]], dtype=object)"
      ]
     },
     "execution_count": 56,
     "metadata": {},
     "output_type": "execute_result"
    },
    {
     "data": {
      "image/png": "[encoded data removed]",
      "text/plain": [
       "<Figure size 1440x2160 with 6 Axes>"
      ]
     },
     "metadata": {
      "needs_background": "light"
     },
     "output_type": "display_data"
    }
   ],
   "source": [
    "df.iloc[:, 3:9].hist(figsize=(20,30))"
   ]
  },
  {
   "cell_type": "markdown",
   "id": "78a7654f",
   "metadata": {},
   "source": [
    "## Correlation"
   ]
  },
  {
   "cell_type": "code",
   "execution_count": 57,
   "id": "3cc34fa1",
   "metadata": {},
   "outputs": [
    {
     "data": {
      "text/html": [
       "<div>\n",
       "<style scoped>\n",
       "    .dataframe tbody tr th:only-of-type {\n",
       "        vertical-align: middle;\n",
       "    }\n",
       "\n",
       "    .dataframe tbody tr th {\n",
       "        vertical-align: top;\n",
       "    }\n",
       "\n",
       "    .dataframe thead th {\n",
       "        text-align: right;\n",
       "    }\n",
       "</style>\n",
       "<table border=\"1\" class=\"dataframe\">\n",
       "  <thead>\n",
       "    <tr style=\"text-align: right;\">\n",
       "      <th></th>\n",
       "      <th>Buyer/Spender</th>\n",
       "      <th>Fresh</th>\n",
       "      <th>Milk</th>\n",
       "      <th>Grocery</th>\n",
       "      <th>Frozen</th>\n",
       "      <th>Detergents_Paper</th>\n",
       "      <th>Delicatessen</th>\n",
       "    </tr>\n",
       "  </thead>\n",
       "  <tbody>\n",
       "    <tr>\n",
       "      <th>Buyer/Spender</th>\n",
       "      <td>1.00</td>\n",
       "      <td>-0.06</td>\n",
       "      <td>-0.16</td>\n",
       "      <td>-0.14</td>\n",
       "      <td>0.05</td>\n",
       "      <td>-0.13</td>\n",
       "      <td>-0.10</td>\n",
       "    </tr>\n",
       "    <tr>\n",
       "      <th>Fresh</th>\n",
       "      <td>-0.06</td>\n",
       "      <td>1.00</td>\n",
       "      <td>0.10</td>\n",
       "      <td>-0.01</td>\n",
       "      <td>0.35</td>\n",
       "      <td>-0.10</td>\n",
       "      <td>0.24</td>\n",
       "    </tr>\n",
       "    <tr>\n",
       "      <th>Milk</th>\n",
       "      <td>-0.16</td>\n",
       "      <td>0.10</td>\n",
       "      <td>1.00</td>\n",
       "      <td>0.73</td>\n",
       "      <td>0.12</td>\n",
       "      <td>0.66</td>\n",
       "      <td>0.41</td>\n",
       "    </tr>\n",
       "    <tr>\n",
       "      <th>Grocery</th>\n",
       "      <td>-0.14</td>\n",
       "      <td>-0.01</td>\n",
       "      <td>0.73</td>\n",
       "      <td>1.00</td>\n",
       "      <td>-0.04</td>\n",
       "      <td>0.92</td>\n",
       "      <td>0.21</td>\n",
       "    </tr>\n",
       "    <tr>\n",
       "      <th>Frozen</th>\n",
       "      <td>0.05</td>\n",
       "      <td>0.35</td>\n",
       "      <td>0.12</td>\n",
       "      <td>-0.04</td>\n",
       "      <td>1.00</td>\n",
       "      <td>-0.13</td>\n",
       "      <td>0.39</td>\n",
       "    </tr>\n",
       "    <tr>\n",
       "      <th>Detergents_Paper</th>\n",
       "      <td>-0.13</td>\n",
       "      <td>-0.10</td>\n",
       "      <td>0.66</td>\n",
       "      <td>0.92</td>\n",
       "      <td>-0.13</td>\n",
       "      <td>1.00</td>\n",
       "      <td>0.07</td>\n",
       "    </tr>\n",
       "    <tr>\n",
       "      <th>Delicatessen</th>\n",
       "      <td>-0.10</td>\n",
       "      <td>0.24</td>\n",
       "      <td>0.41</td>\n",
       "      <td>0.21</td>\n",
       "      <td>0.39</td>\n",
       "      <td>0.07</td>\n",
       "      <td>1.00</td>\n",
       "    </tr>\n",
       "  </tbody>\n",
       "</table>\n",
       "</div>"
      ],
      "text/plain": [
       "                  Buyer/Spender  Fresh  Milk  Grocery  Frozen  \\\n",
       "Buyer/Spender              1.00  -0.06 -0.16    -0.14    0.05   \n",
       "Fresh                     -0.06   1.00  0.10    -0.01    0.35   \n",
       "Milk                      -0.16   0.10  1.00     0.73    0.12   \n",
       "Grocery                   -0.14  -0.01  0.73     1.00   -0.04   \n",
       "Frozen                     0.05   0.35  0.12    -0.04    1.00   \n",
       "Detergents_Paper          -0.13  -0.10  0.66     0.92   -0.13   \n",
       "Delicatessen              -0.10   0.24  0.41     0.21    0.39   \n",
       "\n",
       "                  Detergents_Paper  Delicatessen  \n",
       "Buyer/Spender                -0.13         -0.10  \n",
       "Fresh                        -0.10          0.24  \n",
       "Milk                          0.66          0.41  \n",
       "Grocery                       0.92          0.21  \n",
       "Frozen                       -0.13          0.39  \n",
       "Detergents_Paper              1.00          0.07  \n",
       "Delicatessen                  0.07          1.00  "
      ]
     },
     "execution_count": 57,
     "metadata": {},
     "output_type": "execute_result"
    }
   ],
   "source": [
    "corr = df_item.corr().round(2)\n",
    "corr"
   ]
  },
  {
   "cell_type": "code",
   "execution_count": 58,
   "id": "002df188",
   "metadata": {},
   "outputs": [
    {
     "data": {
      "text/plain": [
       "<AxesSubplot:>"
      ]
     },
     "execution_count": 58,
     "metadata": {},
     "output_type": "execute_result"
    },
    {
     "data": {
      "image/png": "[encoded data removed]",
      "text/plain": [
       "<Figure size 432x288 with 2 Axes>"
      ]
     },
     "metadata": {
      "needs_background": "light"
     },
     "output_type": "display_data"
    }
   ],
   "source": [
    "sns.heatmap(corr, annot= True, cmap=\"PuBu\", linewidths=.5)"
   ]
  },
  {
   "cell_type": "code",
   "execution_count": 59,
   "id": "df5b8128",
   "metadata": {},
   "outputs": [],
   "source": [
    "x.drop(['Buyer/Spender'], axis=1, inplace=True)"
   ]
  },
  {
   "cell_type": "markdown",
   "id": "8dc86fdb",
   "metadata": {},
   "source": [
    "### 1.1 Use methods of descriptive statistics to summarize data. Which Region and which Channel spent the most? Which Region and which Channel spent the least?"
   ]
  },
  {
   "cell_type": "markdown",
   "id": "a372c2d4",
   "metadata": {},
   "source": [
    "* The data consists of 6 quantitative variables ('Fresh', 'Milk','Grocery', 'Frozen', 'Detergents_Paper', 'Delicatessen') and 2 categorical variable (Region and Channels).\n",
    "\n",
    "* There are in total 440 entries with no null value present in the data\n",
    "\n",
    "* All the 6 integer type variables consists of many extreme outliers. This is also evidet from the right skewed histogram plot of the 6 variables\n",
    "\n",
    "* Through calculation of Coefficient of variation, there's greater level of dispertion in the variavle, 'Delicatessen', 'Detergets Paper' and ' Frozen' products.\n"
   ]
  },
  {
   "cell_type": "markdown",
   "id": "dd52ebe7",
   "metadata": {},
   "source": [
    "### Decrible table with CV and Range"
   ]
  },
  {
   "cell_type": "code",
   "execution_count": 60,
   "id": "9acfa0ab",
   "metadata": {},
   "outputs": [
    {
     "data": {
      "text/html": [
       "<div>\n",
       "<style scoped>\n",
       "    .dataframe tbody tr th:only-of-type {\n",
       "        vertical-align: middle;\n",
       "    }\n",
       "\n",
       "    .dataframe tbody tr th {\n",
       "        vertical-align: top;\n",
       "    }\n",
       "\n",
       "    .dataframe thead th {\n",
       "        text-align: right;\n",
       "    }\n",
       "</style>\n",
       "<table border=\"1\" class=\"dataframe\">\n",
       "  <thead>\n",
       "    <tr style=\"text-align: right;\">\n",
       "      <th></th>\n",
       "      <th>Fresh</th>\n",
       "      <th>Milk</th>\n",
       "      <th>Grocery</th>\n",
       "      <th>Frozen</th>\n",
       "      <th>Detergents_Paper</th>\n",
       "      <th>Delicatessen</th>\n",
       "    </tr>\n",
       "  </thead>\n",
       "  <tbody>\n",
       "    <tr>\n",
       "      <th>count</th>\n",
       "      <td>440.00</td>\n",
       "      <td>440.00</td>\n",
       "      <td>440.0</td>\n",
       "      <td>440.00</td>\n",
       "      <td>440.00</td>\n",
       "      <td>440.00</td>\n",
       "    </tr>\n",
       "    <tr>\n",
       "      <th>mean</th>\n",
       "      <td>12000.30</td>\n",
       "      <td>5796.30</td>\n",
       "      <td>7951.3</td>\n",
       "      <td>3071.90</td>\n",
       "      <td>2881.50</td>\n",
       "      <td>1524.90</td>\n",
       "    </tr>\n",
       "    <tr>\n",
       "      <th>std</th>\n",
       "      <td>12647.30</td>\n",
       "      <td>7380.40</td>\n",
       "      <td>9503.2</td>\n",
       "      <td>4854.70</td>\n",
       "      <td>4767.90</td>\n",
       "      <td>2820.10</td>\n",
       "    </tr>\n",
       "    <tr>\n",
       "      <th>min</th>\n",
       "      <td>3.00</td>\n",
       "      <td>55.00</td>\n",
       "      <td>3.0</td>\n",
       "      <td>25.00</td>\n",
       "      <td>3.00</td>\n",
       "      <td>3.00</td>\n",
       "    </tr>\n",
       "    <tr>\n",
       "      <th>25%</th>\n",
       "      <td>3127.80</td>\n",
       "      <td>1533.00</td>\n",
       "      <td>2153.0</td>\n",
       "      <td>742.20</td>\n",
       "      <td>256.80</td>\n",
       "      <td>408.20</td>\n",
       "    </tr>\n",
       "    <tr>\n",
       "      <th>50%</th>\n",
       "      <td>8504.00</td>\n",
       "      <td>3627.00</td>\n",
       "      <td>4755.5</td>\n",
       "      <td>1526.00</td>\n",
       "      <td>816.50</td>\n",
       "      <td>965.50</td>\n",
       "    </tr>\n",
       "    <tr>\n",
       "      <th>75%</th>\n",
       "      <td>16933.80</td>\n",
       "      <td>7190.20</td>\n",
       "      <td>10655.8</td>\n",
       "      <td>3554.20</td>\n",
       "      <td>3922.00</td>\n",
       "      <td>1820.20</td>\n",
       "    </tr>\n",
       "    <tr>\n",
       "      <th>max</th>\n",
       "      <td>112151.00</td>\n",
       "      <td>73498.00</td>\n",
       "      <td>92780.0</td>\n",
       "      <td>60869.00</td>\n",
       "      <td>40827.00</td>\n",
       "      <td>47943.00</td>\n",
       "    </tr>\n",
       "    <tr>\n",
       "      <th>CV</th>\n",
       "      <td>1.05</td>\n",
       "      <td>1.27</td>\n",
       "      <td>1.2</td>\n",
       "      <td>1.58</td>\n",
       "      <td>1.65</td>\n",
       "      <td>1.85</td>\n",
       "    </tr>\n",
       "    <tr>\n",
       "      <th>Range</th>\n",
       "      <td>112148.00</td>\n",
       "      <td>73443.00</td>\n",
       "      <td>92777.0</td>\n",
       "      <td>60844.00</td>\n",
       "      <td>40824.00</td>\n",
       "      <td>47940.00</td>\n",
       "    </tr>\n",
       "  </tbody>\n",
       "</table>\n",
       "</div>"
      ],
      "text/plain": [
       "           Fresh      Milk  Grocery    Frozen  Detergents_Paper  Delicatessen\n",
       "count     440.00    440.00    440.0    440.00            440.00        440.00\n",
       "mean    12000.30   5796.30   7951.3   3071.90           2881.50       1524.90\n",
       "std     12647.30   7380.40   9503.2   4854.70           4767.90       2820.10\n",
       "min         3.00     55.00      3.0     25.00              3.00          3.00\n",
       "25%      3127.80   1533.00   2153.0    742.20            256.80        408.20\n",
       "50%      8504.00   3627.00   4755.5   1526.00            816.50        965.50\n",
       "75%     16933.80   7190.20  10655.8   3554.20           3922.00       1820.20\n",
       "max    112151.00  73498.00  92780.0  60869.00          40827.00      47943.00\n",
       "CV          1.05      1.27      1.2      1.58              1.65          1.85\n",
       "Range  112148.00  73443.00  92777.0  60844.00          40824.00      47940.00"
      ]
     },
     "execution_count": 60,
     "metadata": {},
     "output_type": "execute_result"
    }
   ],
   "source": [
    "x.loc[('CV'), :] = x.loc[('std'), :]/x.loc[('mean'), :]\n",
    "x.loc[('Range'), :] = x.loc[('max'), :]-x.loc[('min'), :]\n",
    "x.round(2)"
   ]
  },
  {
   "cell_type": "markdown",
   "id": "ebf6f09e",
   "metadata": {},
   "source": [
    "Through calculation of Coefficient of variation, there's greater level of dispertion in the variables, 'Delicatessen', 'Detergets Paper' and ' Frozen' products, while, Fresh and Milk Items shows less variability\n"
   ]
  },
  {
   "cell_type": "markdown",
   "id": "4fcdf56b",
   "metadata": {},
   "source": [
    "### Pivot Table"
   ]
  },
  {
   "cell_type": "code",
   "execution_count": 61,
   "id": "0b738c59",
   "metadata": {},
   "outputs": [
    {
     "data": {
      "text/html": [
       "<div>\n",
       "<style scoped>\n",
       "    .dataframe tbody tr th:only-of-type {\n",
       "        vertical-align: middle;\n",
       "    }\n",
       "\n",
       "    .dataframe tbody tr th {\n",
       "        vertical-align: top;\n",
       "    }\n",
       "\n",
       "    .dataframe thead th {\n",
       "        text-align: right;\n",
       "    }\n",
       "</style>\n",
       "<table border=\"1\" class=\"dataframe\">\n",
       "  <thead>\n",
       "    <tr style=\"text-align: right;\">\n",
       "      <th></th>\n",
       "      <th></th>\n",
       "      <th>Delicatessen</th>\n",
       "      <th>Detergents_Paper</th>\n",
       "      <th>Fresh</th>\n",
       "      <th>Frozen</th>\n",
       "      <th>Grocery</th>\n",
       "      <th>Milk</th>\n",
       "    </tr>\n",
       "    <tr>\n",
       "      <th>Region</th>\n",
       "      <th>Channel</th>\n",
       "      <th></th>\n",
       "      <th></th>\n",
       "      <th></th>\n",
       "      <th></th>\n",
       "      <th></th>\n",
       "      <th></th>\n",
       "    </tr>\n",
       "  </thead>\n",
       "  <tbody>\n",
       "    <tr>\n",
       "      <th rowspan=\"2\" valign=\"top\">Lisbon</th>\n",
       "      <th>Hotel</th>\n",
       "      <td>70632</td>\n",
       "      <td>56081</td>\n",
       "      <td>761233</td>\n",
       "      <td>184512</td>\n",
       "      <td>237542</td>\n",
       "      <td>228342</td>\n",
       "    </tr>\n",
       "    <tr>\n",
       "      <th>Retail</th>\n",
       "      <td>33695</td>\n",
       "      <td>148055</td>\n",
       "      <td>93600</td>\n",
       "      <td>46514</td>\n",
       "      <td>332495</td>\n",
       "      <td>194112</td>\n",
       "    </tr>\n",
       "    <tr>\n",
       "      <th rowspan=\"2\" valign=\"top\">Oporto</th>\n",
       "      <th>Hotel</th>\n",
       "      <td>30965</td>\n",
       "      <td>13516</td>\n",
       "      <td>326215</td>\n",
       "      <td>160861</td>\n",
       "      <td>123074</td>\n",
       "      <td>64519</td>\n",
       "    </tr>\n",
       "    <tr>\n",
       "      <th>Retail</th>\n",
       "      <td>23541</td>\n",
       "      <td>159795</td>\n",
       "      <td>138506</td>\n",
       "      <td>29271</td>\n",
       "      <td>310200</td>\n",
       "      <td>174625</td>\n",
       "    </tr>\n",
       "    <tr>\n",
       "      <th rowspan=\"2\" valign=\"top\">Other</th>\n",
       "      <th>Hotel</th>\n",
       "      <td>320358</td>\n",
       "      <td>165990</td>\n",
       "      <td>2928269</td>\n",
       "      <td>771606</td>\n",
       "      <td>820101</td>\n",
       "      <td>735753</td>\n",
       "    </tr>\n",
       "    <tr>\n",
       "      <th>Retail</th>\n",
       "      <td>191752</td>\n",
       "      <td>724420</td>\n",
       "      <td>1032308</td>\n",
       "      <td>158886</td>\n",
       "      <td>1675150</td>\n",
       "      <td>1153006</td>\n",
       "    </tr>\n",
       "    <tr>\n",
       "      <th>Total</th>\n",
       "      <th></th>\n",
       "      <td>670943</td>\n",
       "      <td>1267857</td>\n",
       "      <td>5280131</td>\n",
       "      <td>1351650</td>\n",
       "      <td>3498562</td>\n",
       "      <td>2550357</td>\n",
       "    </tr>\n",
       "  </tbody>\n",
       "</table>\n",
       "</div>"
      ],
      "text/plain": [
       "                Delicatessen  Detergents_Paper    Fresh   Frozen  Grocery  \\\n",
       "Region Channel                                                              \n",
       "Lisbon Hotel           70632             56081   761233   184512   237542   \n",
       "       Retail          33695            148055    93600    46514   332495   \n",
       "Oporto Hotel           30965             13516   326215   160861   123074   \n",
       "       Retail          23541            159795   138506    29271   310200   \n",
       "Other  Hotel          320358            165990  2928269   771606   820101   \n",
       "       Retail         191752            724420  1032308   158886  1675150   \n",
       "Total                 670943           1267857  5280131  1351650  3498562   \n",
       "\n",
       "                   Milk  \n",
       "Region Channel           \n",
       "Lisbon Hotel     228342  \n",
       "       Retail    194112  \n",
       "Oporto Hotel      64519  \n",
       "       Retail    174625  \n",
       "Other  Hotel     735753  \n",
       "       Retail   1153006  \n",
       "Total           2550357  "
      ]
     },
     "execution_count": 61,
     "metadata": {},
     "output_type": "execute_result"
    }
   ],
   "source": [
    "pd.pivot_table(df,values= ['Fresh', 'Milk','Grocery', 'Frozen', 'Detergents_Paper', 'Delicatessen'], index=['Region','Channel'], aggfunc=np.sum, margins= True, margins_name='Total')"
   ]
  },
  {
   "cell_type": "markdown",
   "id": "89fc3c0a",
   "metadata": {},
   "source": [
    "* Hotels in Lisbon and Oporto spends more on Fresh and Grocery items, while Retails spend more on Grocery and Detergent paper\n",
    "* in 'Other' places, Hotels spend more on Fresh and Grocery items while Retails spend more on Grocery and Froen items. "
   ]
  },
  {
   "cell_type": "code",
   "execution_count": 62,
   "id": "7f01e378",
   "metadata": {},
   "outputs": [],
   "source": [
    "df['Total']= df['Fresh']+ df['Milk'] + df['Grocery'] + df['Frozen'] + df['Detergents_Paper'] + df['Delicatessen']"
   ]
  },
  {
   "cell_type": "code",
   "execution_count": 63,
   "id": "389778f4",
   "metadata": {},
   "outputs": [
    {
     "data": {
      "text/html": [
       "<div>\n",
       "<style scoped>\n",
       "    .dataframe tbody tr th:only-of-type {\n",
       "        vertical-align: middle;\n",
       "    }\n",
       "\n",
       "    .dataframe tbody tr th {\n",
       "        vertical-align: top;\n",
       "    }\n",
       "\n",
       "    .dataframe thead th {\n",
       "        text-align: right;\n",
       "    }\n",
       "</style>\n",
       "<table border=\"1\" class=\"dataframe\">\n",
       "  <thead>\n",
       "    <tr style=\"text-align: right;\">\n",
       "      <th></th>\n",
       "      <th>Buyer/Spender</th>\n",
       "      <th>Channel</th>\n",
       "      <th>Region</th>\n",
       "      <th>Fresh</th>\n",
       "      <th>Milk</th>\n",
       "      <th>Grocery</th>\n",
       "      <th>Frozen</th>\n",
       "      <th>Detergents_Paper</th>\n",
       "      <th>Delicatessen</th>\n",
       "      <th>Total</th>\n",
       "    </tr>\n",
       "  </thead>\n",
       "  <tbody>\n",
       "    <tr>\n",
       "      <th>0</th>\n",
       "      <td>1</td>\n",
       "      <td>Retail</td>\n",
       "      <td>Other</td>\n",
       "      <td>12669</td>\n",
       "      <td>9656</td>\n",
       "      <td>7561</td>\n",
       "      <td>214</td>\n",
       "      <td>2674</td>\n",
       "      <td>1338</td>\n",
       "      <td>34112</td>\n",
       "    </tr>\n",
       "    <tr>\n",
       "      <th>1</th>\n",
       "      <td>2</td>\n",
       "      <td>Retail</td>\n",
       "      <td>Other</td>\n",
       "      <td>7057</td>\n",
       "      <td>9810</td>\n",
       "      <td>9568</td>\n",
       "      <td>1762</td>\n",
       "      <td>3293</td>\n",
       "      <td>1776</td>\n",
       "      <td>33266</td>\n",
       "    </tr>\n",
       "    <tr>\n",
       "      <th>2</th>\n",
       "      <td>3</td>\n",
       "      <td>Retail</td>\n",
       "      <td>Other</td>\n",
       "      <td>6353</td>\n",
       "      <td>8808</td>\n",
       "      <td>7684</td>\n",
       "      <td>2405</td>\n",
       "      <td>3516</td>\n",
       "      <td>7844</td>\n",
       "      <td>36610</td>\n",
       "    </tr>\n",
       "    <tr>\n",
       "      <th>3</th>\n",
       "      <td>4</td>\n",
       "      <td>Hotel</td>\n",
       "      <td>Other</td>\n",
       "      <td>13265</td>\n",
       "      <td>1196</td>\n",
       "      <td>4221</td>\n",
       "      <td>6404</td>\n",
       "      <td>507</td>\n",
       "      <td>1788</td>\n",
       "      <td>27381</td>\n",
       "    </tr>\n",
       "    <tr>\n",
       "      <th>4</th>\n",
       "      <td>5</td>\n",
       "      <td>Retail</td>\n",
       "      <td>Other</td>\n",
       "      <td>22615</td>\n",
       "      <td>5410</td>\n",
       "      <td>7198</td>\n",
       "      <td>3915</td>\n",
       "      <td>1777</td>\n",
       "      <td>5185</td>\n",
       "      <td>46100</td>\n",
       "    </tr>\n",
       "    <tr>\n",
       "      <th>...</th>\n",
       "      <td>...</td>\n",
       "      <td>...</td>\n",
       "      <td>...</td>\n",
       "      <td>...</td>\n",
       "      <td>...</td>\n",
       "      <td>...</td>\n",
       "      <td>...</td>\n",
       "      <td>...</td>\n",
       "      <td>...</td>\n",
       "      <td>...</td>\n",
       "    </tr>\n",
       "    <tr>\n",
       "      <th>435</th>\n",
       "      <td>436</td>\n",
       "      <td>Hotel</td>\n",
       "      <td>Other</td>\n",
       "      <td>29703</td>\n",
       "      <td>12051</td>\n",
       "      <td>16027</td>\n",
       "      <td>13135</td>\n",
       "      <td>182</td>\n",
       "      <td>2204</td>\n",
       "      <td>73302</td>\n",
       "    </tr>\n",
       "    <tr>\n",
       "      <th>436</th>\n",
       "      <td>437</td>\n",
       "      <td>Hotel</td>\n",
       "      <td>Other</td>\n",
       "      <td>39228</td>\n",
       "      <td>1431</td>\n",
       "      <td>764</td>\n",
       "      <td>4510</td>\n",
       "      <td>93</td>\n",
       "      <td>2346</td>\n",
       "      <td>48372</td>\n",
       "    </tr>\n",
       "    <tr>\n",
       "      <th>437</th>\n",
       "      <td>438</td>\n",
       "      <td>Retail</td>\n",
       "      <td>Other</td>\n",
       "      <td>14531</td>\n",
       "      <td>15488</td>\n",
       "      <td>30243</td>\n",
       "      <td>437</td>\n",
       "      <td>14841</td>\n",
       "      <td>1867</td>\n",
       "      <td>77407</td>\n",
       "    </tr>\n",
       "    <tr>\n",
       "      <th>438</th>\n",
       "      <td>439</td>\n",
       "      <td>Hotel</td>\n",
       "      <td>Other</td>\n",
       "      <td>10290</td>\n",
       "      <td>1981</td>\n",
       "      <td>2232</td>\n",
       "      <td>1038</td>\n",
       "      <td>168</td>\n",
       "      <td>2125</td>\n",
       "      <td>17834</td>\n",
       "    </tr>\n",
       "    <tr>\n",
       "      <th>439</th>\n",
       "      <td>440</td>\n",
       "      <td>Hotel</td>\n",
       "      <td>Other</td>\n",
       "      <td>2787</td>\n",
       "      <td>1698</td>\n",
       "      <td>2510</td>\n",
       "      <td>65</td>\n",
       "      <td>477</td>\n",
       "      <td>52</td>\n",
       "      <td>7589</td>\n",
       "    </tr>\n",
       "  </tbody>\n",
       "</table>\n",
       "<p>440 rows × 10 columns</p>\n",
       "</div>"
      ],
      "text/plain": [
       "     Buyer/Spender Channel Region  Fresh   Milk  Grocery  Frozen  \\\n",
       "0                1  Retail  Other  12669   9656     7561     214   \n",
       "1                2  Retail  Other   7057   9810     9568    1762   \n",
       "2                3  Retail  Other   6353   8808     7684    2405   \n",
       "3                4   Hotel  Other  13265   1196     4221    6404   \n",
       "4                5  Retail  Other  22615   5410     7198    3915   \n",
       "..             ...     ...    ...    ...    ...      ...     ...   \n",
       "435            436   Hotel  Other  29703  12051    16027   13135   \n",
       "436            437   Hotel  Other  39228   1431      764    4510   \n",
       "437            438  Retail  Other  14531  15488    30243     437   \n",
       "438            439   Hotel  Other  10290   1981     2232    1038   \n",
       "439            440   Hotel  Other   2787   1698     2510      65   \n",
       "\n",
       "     Detergents_Paper  Delicatessen  Total  \n",
       "0                2674          1338  34112  \n",
       "1                3293          1776  33266  \n",
       "2                3516          7844  36610  \n",
       "3                 507          1788  27381  \n",
       "4                1777          5185  46100  \n",
       "..                ...           ...    ...  \n",
       "435               182          2204  73302  \n",
       "436                93          2346  48372  \n",
       "437             14841          1867  77407  \n",
       "438               168          2125  17834  \n",
       "439               477            52   7589  \n",
       "\n",
       "[440 rows x 10 columns]"
      ]
     },
     "execution_count": 63,
     "metadata": {},
     "output_type": "execute_result"
    }
   ],
   "source": [
    "df"
   ]
  },
  {
   "cell_type": "code",
   "execution_count": 64,
   "id": "94367b6b",
   "metadata": {},
   "outputs": [
    {
     "name": "stderr",
     "output_type": "stream",
     "text": [
      "<ipython-input-64-d2a9fe2c12da>:1: FutureWarning: Indexing with multiple keys (implicitly converted to a tuple of keys) will be deprecated, use a list instead.\n",
      "  df.groupby(['Region'])['Fresh', 'Milk', 'Grocery', 'Frozen', 'Detergents_Paper', 'Delicatessen'].sum().sort_values(by= 'Region', ascending= False).plot(kind='bar', color=['royalblue', 'darkorange', 'limegreen', 'gold', 'violet', 'red'])\n"
     ]
    },
    {
     "data": {
      "text/plain": [
       "<AxesSubplot:xlabel='Region'>"
      ]
     },
     "execution_count": 64,
     "metadata": {},
     "output_type": "execute_result"
    },
    {
     "data": {
      "image/png": "[encoded data removed]",
      "text/plain": [
       "<Figure size 432x288 with 1 Axes>"
      ]
     },
     "metadata": {
      "needs_background": "light"
     },
     "output_type": "display_data"
    }
   ],
   "source": [
    "df.groupby(['Region'])['Fresh', 'Milk', 'Grocery', 'Frozen', 'Detergents_Paper', 'Delicatessen'].sum().sort_values(by= 'Region', ascending= False).plot(kind='bar', color=['royalblue', 'darkorange', 'limegreen', 'gold', 'violet', 'red'])\n"
   ]
  },
  {
   "cell_type": "code",
   "execution_count": 65,
   "id": "601c1e53",
   "metadata": {},
   "outputs": [
    {
     "name": "stderr",
     "output_type": "stream",
     "text": [
      "<ipython-input-65-402dc52771b2>:1: FutureWarning: Indexing with multiple keys (implicitly converted to a tuple of keys) will be deprecated, use a list instead.\n",
      "  df.groupby(['Region'])['Fresh', 'Milk', 'Grocery', 'Frozen', 'Detergents_Paper', 'Delicatessen'].sum().sort_values(by= 'Region', ascending= False)\n"
     ]
    },
    {
     "data": {
      "text/html": [
       "<div>\n",
       "<style scoped>\n",
       "    .dataframe tbody tr th:only-of-type {\n",
       "        vertical-align: middle;\n",
       "    }\n",
       "\n",
       "    .dataframe tbody tr th {\n",
       "        vertical-align: top;\n",
       "    }\n",
       "\n",
       "    .dataframe thead th {\n",
       "        text-align: right;\n",
       "    }\n",
       "</style>\n",
       "<table border=\"1\" class=\"dataframe\">\n",
       "  <thead>\n",
       "    <tr style=\"text-align: right;\">\n",
       "      <th></th>\n",
       "      <th>Fresh</th>\n",
       "      <th>Milk</th>\n",
       "      <th>Grocery</th>\n",
       "      <th>Frozen</th>\n",
       "      <th>Detergents_Paper</th>\n",
       "      <th>Delicatessen</th>\n",
       "    </tr>\n",
       "    <tr>\n",
       "      <th>Region</th>\n",
       "      <th></th>\n",
       "      <th></th>\n",
       "      <th></th>\n",
       "      <th></th>\n",
       "      <th></th>\n",
       "      <th></th>\n",
       "    </tr>\n",
       "  </thead>\n",
       "  <tbody>\n",
       "    <tr>\n",
       "      <th>Other</th>\n",
       "      <td>3960577</td>\n",
       "      <td>1888759</td>\n",
       "      <td>2495251</td>\n",
       "      <td>930492</td>\n",
       "      <td>890410</td>\n",
       "      <td>512110</td>\n",
       "    </tr>\n",
       "    <tr>\n",
       "      <th>Oporto</th>\n",
       "      <td>464721</td>\n",
       "      <td>239144</td>\n",
       "      <td>433274</td>\n",
       "      <td>190132</td>\n",
       "      <td>173311</td>\n",
       "      <td>54506</td>\n",
       "    </tr>\n",
       "    <tr>\n",
       "      <th>Lisbon</th>\n",
       "      <td>854833</td>\n",
       "      <td>422454</td>\n",
       "      <td>570037</td>\n",
       "      <td>231026</td>\n",
       "      <td>204136</td>\n",
       "      <td>104327</td>\n",
       "    </tr>\n",
       "  </tbody>\n",
       "</table>\n",
       "</div>"
      ],
      "text/plain": [
       "          Fresh     Milk  Grocery  Frozen  Detergents_Paper  Delicatessen\n",
       "Region                                                                   \n",
       "Other   3960577  1888759  2495251  930492            890410        512110\n",
       "Oporto   464721   239144   433274  190132            173311         54506\n",
       "Lisbon   854833   422454   570037  231026            204136        104327"
      ]
     },
     "execution_count": 65,
     "metadata": {},
     "output_type": "execute_result"
    }
   ],
   "source": [
    "df.groupby(['Region'])['Fresh', 'Milk', 'Grocery', 'Frozen', 'Detergents_Paper', 'Delicatessen'].sum().sort_values(by= 'Region', ascending= False)"
   ]
  },
  {
   "cell_type": "code",
   "execution_count": null,
   "id": "abe74b1e",
   "metadata": {},
   "outputs": [],
   "source": []
  },
  {
   "cell_type": "code",
   "execution_count": 66,
   "id": "4a3452d8",
   "metadata": {},
   "outputs": [
    {
     "data": {
      "text/plain": [
       "<AxesSubplot:xlabel='Region'>"
      ]
     },
     "execution_count": 66,
     "metadata": {},
     "output_type": "execute_result"
    },
    {
     "data": {
      "image/png": "[encoded data removed]",
      "text/plain": [
       "<Figure size 432x288 with 1 Axes>"
      ]
     },
     "metadata": {
      "needs_background": "light"
     },
     "output_type": "display_data"
    }
   ],
   "source": [
    "df.groupby(['Region'])['Total'].sum().sort_values(ascending= False).plot(kind='bar', color=['royalblue', 'orange', 'green'])\n"
   ]
  },
  {
   "cell_type": "code",
   "execution_count": 67,
   "id": "623cab88",
   "metadata": {},
   "outputs": [
    {
     "data": {
      "text/plain": [
       "<AxesSubplot:xlabel='Channel'>"
      ]
     },
     "execution_count": 67,
     "metadata": {},
     "output_type": "execute_result"
    },
    {
     "data": {
      "image/png": "[encoded data removed]",
      "text/plain": [
       "<Figure size 432x288 with 1 Axes>"
      ]
     },
     "metadata": {
      "needs_background": "light"
     },
     "output_type": "display_data"
    }
   ],
   "source": [
    "df.groupby(['Channel'])['Total'].sum().sort_values(ascending= False).plot(kind='bar',color=['royalblue', 'orange'])\n"
   ]
  },
  {
   "cell_type": "markdown",
   "id": "26d3ddce",
   "metadata": {},
   "source": [
    "* Region and channel that spends the most are 'Others' and Hotel respectively, while 'Oporto'  and Retail spends less on the products"
   ]
  },
  {
   "cell_type": "markdown",
   "id": "bfd06f93",
   "metadata": {},
   "source": [
    "### Stats on Items"
   ]
  },
  {
   "cell_type": "code",
   "execution_count": 68,
   "id": "957a7655",
   "metadata": {},
   "outputs": [],
   "source": [
    "pivot_table= pd.pivot_table(df,values= ['Fresh', 'Milk','Grocery', 'Frozen', 'Detergents_Paper', 'Delicatessen', 'Total'], index=['Region'], aggfunc={'Fresh' : [min, max, np.mean, np.std], \n",
    "'Milk': [min, max, np.mean, np.std],'Grocery': [min, max, np.mean, np.std], \n",
    "'Frozen' : [min, max, np.mean, np.std], \n",
    "'Detergents_Paper': [min, max, np.mean, np.std], \n",
    "'Delicatessen': [min, max, np.mean, np.std]})"
   ]
  },
  {
   "cell_type": "code",
   "execution_count": 69,
   "id": "9fc41c5e",
   "metadata": {},
   "outputs": [
    {
     "data": {
      "text/html": [
       "<div>\n",
       "<style scoped>\n",
       "    .dataframe tbody tr th:only-of-type {\n",
       "        vertical-align: middle;\n",
       "    }\n",
       "\n",
       "    .dataframe tbody tr th {\n",
       "        vertical-align: top;\n",
       "    }\n",
       "\n",
       "    .dataframe thead th {\n",
       "        text-align: right;\n",
       "    }\n",
       "</style>\n",
       "<table border=\"1\" class=\"dataframe\">\n",
       "  <thead>\n",
       "    <tr style=\"text-align: right;\">\n",
       "      <th></th>\n",
       "      <th>Region</th>\n",
       "      <th>Lisbon</th>\n",
       "      <th>Oporto</th>\n",
       "      <th>Other</th>\n",
       "    </tr>\n",
       "  </thead>\n",
       "  <tbody>\n",
       "    <tr>\n",
       "      <th rowspan=\"4\" valign=\"top\">Delicatessen</th>\n",
       "      <th>max</th>\n",
       "      <td>6854.0</td>\n",
       "      <td>5609.0</td>\n",
       "      <td>47943.0</td>\n",
       "    </tr>\n",
       "    <tr>\n",
       "      <th>mean</th>\n",
       "      <td>1354.9</td>\n",
       "      <td>1159.7</td>\n",
       "      <td>1620.6</td>\n",
       "    </tr>\n",
       "    <tr>\n",
       "      <th>min</th>\n",
       "      <td>7.0</td>\n",
       "      <td>51.0</td>\n",
       "      <td>3.0</td>\n",
       "    </tr>\n",
       "    <tr>\n",
       "      <th>std</th>\n",
       "      <td>1345.4</td>\n",
       "      <td>1050.7</td>\n",
       "      <td>3232.6</td>\n",
       "    </tr>\n",
       "    <tr>\n",
       "      <th rowspan=\"4\" valign=\"top\">Detergents_Paper</th>\n",
       "      <th>max</th>\n",
       "      <td>19410.0</td>\n",
       "      <td>38102.0</td>\n",
       "      <td>40827.0</td>\n",
       "    </tr>\n",
       "    <tr>\n",
       "      <th>mean</th>\n",
       "      <td>2651.1</td>\n",
       "      <td>3687.5</td>\n",
       "      <td>2817.8</td>\n",
       "    </tr>\n",
       "    <tr>\n",
       "      <th>min</th>\n",
       "      <td>5.0</td>\n",
       "      <td>15.0</td>\n",
       "      <td>3.0</td>\n",
       "    </tr>\n",
       "    <tr>\n",
       "      <th>std</th>\n",
       "      <td>4208.5</td>\n",
       "      <td>6514.7</td>\n",
       "      <td>4593.1</td>\n",
       "    </tr>\n",
       "    <tr>\n",
       "      <th rowspan=\"4\" valign=\"top\">Fresh</th>\n",
       "      <th>max</th>\n",
       "      <td>56083.0</td>\n",
       "      <td>32717.0</td>\n",
       "      <td>112151.0</td>\n",
       "    </tr>\n",
       "    <tr>\n",
       "      <th>mean</th>\n",
       "      <td>11101.7</td>\n",
       "      <td>9887.7</td>\n",
       "      <td>12533.5</td>\n",
       "    </tr>\n",
       "    <tr>\n",
       "      <th>min</th>\n",
       "      <td>18.0</td>\n",
       "      <td>3.0</td>\n",
       "      <td>3.0</td>\n",
       "    </tr>\n",
       "    <tr>\n",
       "      <th>std</th>\n",
       "      <td>11557.4</td>\n",
       "      <td>8387.9</td>\n",
       "      <td>13389.2</td>\n",
       "    </tr>\n",
       "    <tr>\n",
       "      <th rowspan=\"4\" valign=\"top\">Frozen</th>\n",
       "      <th>max</th>\n",
       "      <td>18711.0</td>\n",
       "      <td>60869.0</td>\n",
       "      <td>36534.0</td>\n",
       "    </tr>\n",
       "    <tr>\n",
       "      <th>mean</th>\n",
       "      <td>3000.3</td>\n",
       "      <td>4045.4</td>\n",
       "      <td>2944.6</td>\n",
       "    </tr>\n",
       "    <tr>\n",
       "      <th>min</th>\n",
       "      <td>61.0</td>\n",
       "      <td>131.0</td>\n",
       "      <td>25.0</td>\n",
       "    </tr>\n",
       "    <tr>\n",
       "      <th>std</th>\n",
       "      <td>3092.1</td>\n",
       "      <td>9151.8</td>\n",
       "      <td>4260.1</td>\n",
       "    </tr>\n",
       "    <tr>\n",
       "      <th rowspan=\"4\" valign=\"top\">Grocery</th>\n",
       "      <th>max</th>\n",
       "      <td>39694.0</td>\n",
       "      <td>67298.0</td>\n",
       "      <td>92780.0</td>\n",
       "    </tr>\n",
       "    <tr>\n",
       "      <th>mean</th>\n",
       "      <td>7403.1</td>\n",
       "      <td>9218.6</td>\n",
       "      <td>7896.4</td>\n",
       "    </tr>\n",
       "    <tr>\n",
       "      <th>min</th>\n",
       "      <td>489.0</td>\n",
       "      <td>1330.0</td>\n",
       "      <td>3.0</td>\n",
       "    </tr>\n",
       "    <tr>\n",
       "      <th>std</th>\n",
       "      <td>8496.3</td>\n",
       "      <td>10842.7</td>\n",
       "      <td>9537.3</td>\n",
       "    </tr>\n",
       "    <tr>\n",
       "      <th rowspan=\"4\" valign=\"top\">Milk</th>\n",
       "      <th>max</th>\n",
       "      <td>28326.0</td>\n",
       "      <td>25071.0</td>\n",
       "      <td>73498.0</td>\n",
       "    </tr>\n",
       "    <tr>\n",
       "      <th>mean</th>\n",
       "      <td>5486.4</td>\n",
       "      <td>5088.2</td>\n",
       "      <td>5977.1</td>\n",
       "    </tr>\n",
       "    <tr>\n",
       "      <th>min</th>\n",
       "      <td>258.0</td>\n",
       "      <td>333.0</td>\n",
       "      <td>55.0</td>\n",
       "    </tr>\n",
       "    <tr>\n",
       "      <th>std</th>\n",
       "      <td>5704.9</td>\n",
       "      <td>5826.3</td>\n",
       "      <td>7935.5</td>\n",
       "    </tr>\n",
       "  </tbody>\n",
       "</table>\n",
       "</div>"
      ],
      "text/plain": [
       "Region                  Lisbon   Oporto     Other\n",
       "Delicatessen     max    6854.0   5609.0   47943.0\n",
       "                 mean   1354.9   1159.7    1620.6\n",
       "                 min       7.0     51.0       3.0\n",
       "                 std    1345.4   1050.7    3232.6\n",
       "Detergents_Paper max   19410.0  38102.0   40827.0\n",
       "                 mean   2651.1   3687.5    2817.8\n",
       "                 min       5.0     15.0       3.0\n",
       "                 std    4208.5   6514.7    4593.1\n",
       "Fresh            max   56083.0  32717.0  112151.0\n",
       "                 mean  11101.7   9887.7   12533.5\n",
       "                 min      18.0      3.0       3.0\n",
       "                 std   11557.4   8387.9   13389.2\n",
       "Frozen           max   18711.0  60869.0   36534.0\n",
       "                 mean   3000.3   4045.4    2944.6\n",
       "                 min      61.0    131.0      25.0\n",
       "                 std    3092.1   9151.8    4260.1\n",
       "Grocery          max   39694.0  67298.0   92780.0\n",
       "                 mean   7403.1   9218.6    7896.4\n",
       "                 min     489.0   1330.0       3.0\n",
       "                 std    8496.3  10842.7    9537.3\n",
       "Milk             max   28326.0  25071.0   73498.0\n",
       "                 mean   5486.4   5088.2    5977.1\n",
       "                 min     258.0    333.0      55.0\n",
       "                 std    5704.9   5826.3    7935.5"
      ]
     },
     "execution_count": 69,
     "metadata": {},
     "output_type": "execute_result"
    }
   ],
   "source": [
    "pd.set_option(\"display.max_rows\", None, \"display.max_columns\", None)\n",
    "pivot_table.T.round(1)"
   ]
  },
  {
   "cell_type": "markdown",
   "id": "9894ebce",
   "metadata": {},
   "source": [
    "* For, Delicatessen, Fresh and Milk products, Others average send is highest followed by Lisbon and oporto\n",
    "* For, Detergents, Frozen and Grocery, Oporto's average spend is more than Lisbon and Others\n",
    "* It's quite interesting to note that the min value of amount spent on diffrent food catrgories is drastically low as compared to maximum amount spent\n",
    "\n",
    "\n",
    "Delicatessen- others> Lisbon> oporto\n",
    "Detergents- oporto> others> lisbon\n",
    "Fresh- others> lisbon>oporto\n",
    "Frozen- oporto> lis> others\n",
    "Grocery- oporto> other> lisbon\n",
    "Milk- others> lisbon > oporto"
   ]
  },
  {
   "cell_type": "code",
   "execution_count": 70,
   "id": "0d17d08d",
   "metadata": {},
   "outputs": [],
   "source": [
    "pd.set_option(\"display.max_rows\", None, \"display.max_columns\", None)\n",
    "pivot_table2= pd.pivot_table(df,values= ['Fresh', 'Milk','Grocery', 'Frozen', 'Detergents_Paper', 'Delicatessen', 'Total'], index=['Channel'], aggfunc={'Fresh' : [min, max, np.mean, np.std], \n",
    "'Milk': [min, max, np.mean, np.std],'Grocery': [min, max, np.mean, np.std], \n",
    "'Frozen' : [min, max, np.mean, np.std], \n",
    "'Detergents_Paper': [min, max, np.mean, np.std], \n",
    "'Delicatessen': [min, max, np.mean, np.std]})"
   ]
  },
  {
   "cell_type": "code",
   "execution_count": 71,
   "id": "3d8f5778",
   "metadata": {},
   "outputs": [
    {
     "data": {
      "text/html": [
       "<div>\n",
       "<style scoped>\n",
       "    .dataframe tbody tr th:only-of-type {\n",
       "        vertical-align: middle;\n",
       "    }\n",
       "\n",
       "    .dataframe tbody tr th {\n",
       "        vertical-align: top;\n",
       "    }\n",
       "\n",
       "    .dataframe thead th {\n",
       "        text-align: right;\n",
       "    }\n",
       "</style>\n",
       "<table border=\"1\" class=\"dataframe\">\n",
       "  <thead>\n",
       "    <tr style=\"text-align: right;\">\n",
       "      <th></th>\n",
       "      <th>Channel</th>\n",
       "      <th>Hotel</th>\n",
       "      <th>Retail</th>\n",
       "    </tr>\n",
       "  </thead>\n",
       "  <tbody>\n",
       "    <tr>\n",
       "      <th rowspan=\"4\" valign=\"top\">Delicatessen</th>\n",
       "      <th>max</th>\n",
       "      <td>47943.0</td>\n",
       "      <td>16523.0</td>\n",
       "    </tr>\n",
       "    <tr>\n",
       "      <th>mean</th>\n",
       "      <td>1416.0</td>\n",
       "      <td>1753.4</td>\n",
       "    </tr>\n",
       "    <tr>\n",
       "      <th>min</th>\n",
       "      <td>3.0</td>\n",
       "      <td>3.0</td>\n",
       "    </tr>\n",
       "    <tr>\n",
       "      <th>std</th>\n",
       "      <td>3147.4</td>\n",
       "      <td>1953.8</td>\n",
       "    </tr>\n",
       "    <tr>\n",
       "      <th rowspan=\"4\" valign=\"top\">Detergents_Paper</th>\n",
       "      <th>max</th>\n",
       "      <td>6907.0</td>\n",
       "      <td>40827.0</td>\n",
       "    </tr>\n",
       "    <tr>\n",
       "      <th>mean</th>\n",
       "      <td>790.6</td>\n",
       "      <td>7269.5</td>\n",
       "    </tr>\n",
       "    <tr>\n",
       "      <th>min</th>\n",
       "      <td>3.0</td>\n",
       "      <td>332.0</td>\n",
       "    </tr>\n",
       "    <tr>\n",
       "      <th>std</th>\n",
       "      <td>1104.1</td>\n",
       "      <td>6291.1</td>\n",
       "    </tr>\n",
       "    <tr>\n",
       "      <th rowspan=\"4\" valign=\"top\">Fresh</th>\n",
       "      <th>max</th>\n",
       "      <td>112151.0</td>\n",
       "      <td>44466.0</td>\n",
       "    </tr>\n",
       "    <tr>\n",
       "      <th>mean</th>\n",
       "      <td>13475.6</td>\n",
       "      <td>8904.3</td>\n",
       "    </tr>\n",
       "    <tr>\n",
       "      <th>min</th>\n",
       "      <td>3.0</td>\n",
       "      <td>18.0</td>\n",
       "    </tr>\n",
       "    <tr>\n",
       "      <th>std</th>\n",
       "      <td>13831.7</td>\n",
       "      <td>8987.7</td>\n",
       "    </tr>\n",
       "    <tr>\n",
       "      <th rowspan=\"4\" valign=\"top\">Frozen</th>\n",
       "      <th>max</th>\n",
       "      <td>60869.0</td>\n",
       "      <td>11559.0</td>\n",
       "    </tr>\n",
       "    <tr>\n",
       "      <th>mean</th>\n",
       "      <td>3748.3</td>\n",
       "      <td>1652.6</td>\n",
       "    </tr>\n",
       "    <tr>\n",
       "      <th>min</th>\n",
       "      <td>25.0</td>\n",
       "      <td>33.0</td>\n",
       "    </tr>\n",
       "    <tr>\n",
       "      <th>std</th>\n",
       "      <td>5643.9</td>\n",
       "      <td>1812.8</td>\n",
       "    </tr>\n",
       "    <tr>\n",
       "      <th rowspan=\"4\" valign=\"top\">Grocery</th>\n",
       "      <th>max</th>\n",
       "      <td>21042.0</td>\n",
       "      <td>92780.0</td>\n",
       "    </tr>\n",
       "    <tr>\n",
       "      <th>mean</th>\n",
       "      <td>3962.1</td>\n",
       "      <td>16322.9</td>\n",
       "    </tr>\n",
       "    <tr>\n",
       "      <th>min</th>\n",
       "      <td>3.0</td>\n",
       "      <td>2743.0</td>\n",
       "    </tr>\n",
       "    <tr>\n",
       "      <th>std</th>\n",
       "      <td>3545.5</td>\n",
       "      <td>12267.3</td>\n",
       "    </tr>\n",
       "    <tr>\n",
       "      <th rowspan=\"4\" valign=\"top\">Milk</th>\n",
       "      <th>max</th>\n",
       "      <td>43950.0</td>\n",
       "      <td>73498.0</td>\n",
       "    </tr>\n",
       "    <tr>\n",
       "      <th>mean</th>\n",
       "      <td>3451.7</td>\n",
       "      <td>10716.5</td>\n",
       "    </tr>\n",
       "    <tr>\n",
       "      <th>min</th>\n",
       "      <td>55.0</td>\n",
       "      <td>928.0</td>\n",
       "    </tr>\n",
       "    <tr>\n",
       "      <th>std</th>\n",
       "      <td>4352.2</td>\n",
       "      <td>9679.6</td>\n",
       "    </tr>\n",
       "  </tbody>\n",
       "</table>\n",
       "</div>"
      ],
      "text/plain": [
       "Channel                   Hotel   Retail\n",
       "Delicatessen     max    47943.0  16523.0\n",
       "                 mean    1416.0   1753.4\n",
       "                 min        3.0      3.0\n",
       "                 std     3147.4   1953.8\n",
       "Detergents_Paper max     6907.0  40827.0\n",
       "                 mean     790.6   7269.5\n",
       "                 min        3.0    332.0\n",
       "                 std     1104.1   6291.1\n",
       "Fresh            max   112151.0  44466.0\n",
       "                 mean   13475.6   8904.3\n",
       "                 min        3.0     18.0\n",
       "                 std    13831.7   8987.7\n",
       "Frozen           max    60869.0  11559.0\n",
       "                 mean    3748.3   1652.6\n",
       "                 min       25.0     33.0\n",
       "                 std     5643.9   1812.8\n",
       "Grocery          max    21042.0  92780.0\n",
       "                 mean    3962.1  16322.9\n",
       "                 min        3.0   2743.0\n",
       "                 std     3545.5  12267.3\n",
       "Milk             max    43950.0  73498.0\n",
       "                 mean    3451.7  10716.5\n",
       "                 min       55.0    928.0\n",
       "                 std     4352.2   9679.6"
      ]
     },
     "execution_count": 71,
     "metadata": {},
     "output_type": "execute_result"
    }
   ],
   "source": [
    "pivot_table2.T.round(1)"
   ]
  },
  {
   "cell_type": "markdown",
   "id": "c08c40ec",
   "metadata": {},
   "source": [
    "* For, Delicatessen, Detergents, Grocery and Milk products, Retail channel average spend is more than Hotels\n",
    "* For Fresh and Frozen products, Hotel channel average spend is more than Retail's\n",
    "* It's quite interesting to note that the min value of amount spent on diffrent food categories is drastically low as compared to maximum amount spent"
   ]
  }
 ],
 "metadata": {
  "kernelspec": {
   "display_name": "Python 3",
   "language": "python",
   "name": "python3"
  },
  "language_info": {
   "codemirror_mode": {
    "name": "ipython",
    "version": 3
   },
   "file_extension": ".py",
   "mimetype": "text/x-python",
   "name": "python",
   "nbconvert_exporter": "python",
   "pygments_lexer": "ipython3",
   "version": "3.8.8"
  }
 },
 "nbformat": 4,
 "nbformat_minor": 5
}
